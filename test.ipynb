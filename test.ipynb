{
 "cells": [
  {
   "cell_type": "code",
   "execution_count": 4,
   "metadata": {},
   "outputs": [],
   "source": [
    "from stats import Stat\n",
    "import os, math\n",
    "\n"
   ]
  },
  {
   "cell_type": "code",
   "execution_count": 5,
   "metadata": {},
   "outputs": [],
   "source": [
    "try:\n",
    "    data_path = os.environ['data']\n",
    "except KeyError:\n",
    "    data_path = './data/'\n",
    "\n",
    "fname = os.path.join(data_path,'tracer/torus_gw170817_traces_pruned_r250/tracers_00000050.h5part')\n",
    "dims = [8,8,4]\n",
    "stat = Stat(dims,fname,True)"
   ]
  },
  {
   "cell_type": "code",
   "execution_count": 6,
   "metadata": {},
   "outputs": [
    {
     "name": "stdout",
     "output_type": "stream",
     "text": [
      "[[ 0.          0.          0.         -0.00186098]\n",
      " [ 0.          0.          0.         -0.01638369]\n",
      " [ 0.          0.          0.         -0.02147934]\n",
      " ...\n",
      " [ 0.          0.          0.          0.00297379]\n",
      " [ 0.          0.          0.         -0.02263373]\n",
      " [ 0.          0.          0.         -0.0015574 ]]\n",
      "-0.1430792985717403 0.14453976380933017\n",
      "0.0001102728065950806\n",
      "28.301487009760834\n"
     ]
    }
   ],
   "source": [
    "stat.sample_at_particles()"
   ]
  },
  {
   "cell_type": "code",
   "execution_count": 4,
   "metadata": {},
   "outputs": [
    {
     "name": "stdout",
     "output_type": "stream",
     "text": [
      "-inf inf\n",
      "-0.17174156770587434 0.32471877678462985\n"
     ]
    }
   ],
   "source": [
    "print(stat.error.min(),stat.error.max())\n",
    "stat.error[stat.error > 10] = 0\n",
    "stat.error[stat.error < -10] = 0\n",
    "print(stat.error.min(),stat.error.max())"
   ]
  },
  {
   "cell_type": "code",
   "execution_count": 5,
   "metadata": {},
   "outputs": [
    {
     "data": {
      "text/plain": [
       "25.05479263818853"
      ]
     },
     "execution_count": 5,
     "metadata": {},
     "output_type": "execute_result"
    }
   ],
   "source": [
    "mse = (stat.error ** 2).mean()\n",
    "10 * math.log10(0.07457909845/mse)"
   ]
  }
 ],
 "metadata": {
  "interpreter": {
   "hash": "483a3d96c5e60a0103544e7c7e864f99fd3b368cf4326f680b7871781125d192"
  },
  "kernelspec": {
   "display_name": "Python 3.7.6 64-bit",
   "language": "python",
   "name": "python3"
  },
  "language_info": {
   "codemirror_mode": {
    "name": "ipython",
    "version": 3
   },
   "file_extension": ".py",
   "mimetype": "text/x-python",
   "name": "python",
   "nbconvert_exporter": "python",
   "pygments_lexer": "ipython3",
   "version": "3.7.6"
  },
  "orig_nbformat": 4
 },
 "nbformat": 4,
 "nbformat_minor": 2
}
